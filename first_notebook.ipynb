{
 "cells": [
  {
   "cell_type": "code",
   "execution_count": 1,
   "id": "8b110f19-1bec-42a5-b7b2-6d8d41493078",
   "metadata": {},
   "outputs": [
    {
     "name": "stdout",
     "output_type": "stream",
     "text": [
      "Hello World from my local Notebook\n"
     ]
    }
   ],
   "source": [
    "print(\"Hello World from my local Notebook\")"
   ]
  },
  {
   "cell_type": "code",
   "execution_count": null,
   "id": "7716323c-73bc-48da-8da8-0e4368889647",
   "metadata": {},
   "outputs": [],
   "source": []
  }
 ],
 "metadata": {
  "kernelspec": {
   "display_name": "Python 3 (ipykernel)",
   "language": "python",
   "name": "python3"
  },
  "language_info": {
   "codemirror_mode": {
    "name": "ipython",
    "version": 3
   },
   "file_extension": ".py",
   "mimetype": "text/x-python",
   "name": "python",
   "nbconvert_exporter": "python",
   "pygments_lexer": "ipython3",
   "version": "3.13.7"
  }
 },
 "nbformat": 4,
 "nbformat_minor": 5
}
